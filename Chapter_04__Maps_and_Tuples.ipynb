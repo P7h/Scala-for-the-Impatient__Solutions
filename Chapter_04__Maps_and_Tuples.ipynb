{
 "cells": [
  {
   "cell_type": "markdown",
   "metadata": {},
   "source": [
    "# Scala for the Impatient -- 2nd Edition\n",
    "----\n",
    "\n",
    "## Chapter 4. Maps and Tuples"
   ]
  },
  {
   "cell_type": "markdown",
   "metadata": {},
   "source": [
    "### Print details of the execution environment"
   ]
  },
  {
   "cell_type": "code",
   "execution_count": 1,
   "metadata": {
    "ExecuteTime": {
     "end_time": "2017-07-13T20:40:05.392943Z",
     "start_time": "2017-07-13T20:40:02.952Z"
    }
   },
   "outputs": [
    {
     "name": "stdout",
     "output_type": "stream",
     "text": [
      "Details of exec env ==>\n",
      "    Scala library version 2.11.8 -- Copyright 2002-2016, LAMP/EPFL\n",
      "    OpenJDK 64-Bit Server VM 1.8.0_131 25.131-b11\n"
     ]
    }
   ],
   "source": [
    "println(s\"\"\"Details of exec env ==>\n",
    "    |    ${util.Properties.versionMsg}\n",
    "    |    ${util.Properties.javaVmName} ${util.Properties.javaVersion} ${util.Properties.javaVmVersion}\"\"\"\n",
    ".stripMargin)"
   ]
  },
  {
   "cell_type": "code",
   "execution_count": 2,
   "metadata": {},
   "outputs": [],
   "source": [
    "def printMap(map: Map[String, _]) {\n",
    "    println(map.size)\n",
    "    map.foreach { case(key, value) =>\n",
    "        println(key + \": \" + value)\n",
    "    }\n",
    "}\n",
    "\n",
    "def printMutableMap(map: scala.collection.mutable.Map[String, Int]) {\n",
    "    println(map.size)\n",
    "    map.foreach { case(key, value) =>\n",
    "        println(key + \": \" + value)\n",
    "    }\n",
    "}"
   ]
  },
  {
   "cell_type": "markdown",
   "metadata": {},
   "source": [
    "### Qn#1. Set up a map of prices for a number of gizmos that you covet. Then produce a second map with the same keys and the prices at a 10 percent discount.."
   ]
  },
  {
   "cell_type": "code",
   "execution_count": 3,
   "metadata": {
    "ExecuteTime": {
     "end_time": "2017-07-13T20:40:08.576296Z",
     "start_time": "2017-07-13T20:40:02.952Z"
    }
   },
   "outputs": [
    {
     "name": "stdout",
     "output_type": "stream",
     "text": [
      "3\n",
      "iPhoneX: 900\n",
      "PixelXL: 750\n",
      "Kindle: 120\n"
     ]
    }
   ],
   "source": [
    "val gizmos = Map[String, Int](\"iPhoneX\" -> 900, \n",
    "                              \"PixelXL\" -> 750, \n",
    "                              \"Kindle\" -> 120)\n",
    "printMap(gizmos)"
   ]
  },
  {
   "cell_type": "code",
   "execution_count": 4,
   "metadata": {
    "ExecuteTime": {
     "end_time": "2017-07-13T20:40:08.576296Z",
     "start_time": "2017-07-13T20:40:02.952Z"
    }
   },
   "outputs": [
    {
     "name": "stdout",
     "output_type": "stream",
     "text": [
      "3\n",
      "iPhoneX: 810.0\n",
      "PixelXL: 675.0\n",
      "Kindle: 108.0\n"
     ]
    }
   ],
   "source": [
    "val discountedGizmos = gizmos.map { case(key, value) =>\n",
    "    key -> value * 0.9\n",
    "}\n",
    "\n",
    "printMap(discountedGizmos)"
   ]
  },
  {
   "cell_type": "markdown",
   "metadata": {},
   "source": [
    "### Qn#2. Write a program that reads words from a file. Use a mutable map to count how often each word appears. To read the words, simply use a `java.util.Scanner`: \n",
    "```\n",
    "val in = new java.util.Scanner(new java.io.File(\"myfile.txt\")) \n",
    "while (in.hasNext()) process in.next()\n",
    "```\n",
    "\n",
    "#### Or look at Chapter 9 for a Scalaesque way. \n",
    "#### At the end, print out all words and their counts."
   ]
  },
  {
   "cell_type": "code",
   "execution_count": 5,
   "metadata": {
    "ExecuteTime": {
     "end_time": "2017-07-13T20:40:09.751151Z",
     "start_time": "2017-07-13T20:40:02.952Z"
    }
   },
   "outputs": [
    {
     "name": "stdout",
     "output_type": "stream",
     "text": [
      "130\n",
      "raw: 1\n",
      "reminiscent: 1\n",
      "intended: 1\n",
      "many: 2\n",
      "directly: 1\n",
      "lazy: 1\n",
      "is: 6\n",
      "exceptions,: 1\n",
      "bytecode,: 1\n",
      "uses: 1\n",
      "including: 1\n",
      "syntax: 1\n",
      "not: 3\n",
      "of: 8\n",
      "functional: 2\n",
      "matching.: 1\n",
      "programming: 4\n",
      "written: 1\n",
      "language,: 1\n",
      "have: 1\n",
      "type: 3\n",
      "both: 1\n",
      "include: 1\n",
      "types),: 1\n",
      "address: 1\n",
      "or: 1\n",
      "Haskell,: 1\n",
      "inference,: 1\n",
      "Unlike: 1\n",
      "ML: 1\n",
      "provides: 1\n",
      "referenced: 1\n",
      "curly-brace: 1\n",
      "named: 1\n",
      "supporting: 1\n",
      "be: 3\n",
      "types,: 1\n",
      "checked: 1\n",
      "data: 1\n",
      "languages: 2\n",
      "to: 5\n",
      "pattern: 1\n",
      "source: 1\n",
      "It: 1\n",
      "resulting: 1\n",
      "that: 3\n",
      "and: 8\n",
      "Java.: 1\n",
      "code.: 1\n",
      "C: 1\n",
      "currying,: 1\n",
      "Other: 1\n",
      "decisions: 1\n",
      "signifying: 1\n",
      "Designed: 1\n",
      "strong: 1\n",
      "users.: 1\n",
      "language.: 1\n",
      "its: 1\n",
      "grow: 1\n",
      "present: 1\n",
      "features: 2\n",
      "for: 1\n",
      "a: 6\n",
      "static: 1\n",
      "on: 1\n",
      "operator: 1\n",
      "strings.: 1\n",
      "higher-rank: 1\n",
      "with: 2\n",
      "name: 1\n",
      "in: 4\n",
      "types.: 1\n",
      "design: 1\n",
      "like: 1\n",
      "compiled: 1\n",
      "code: 2\n",
      "Conversely,: 1\n",
      "general-purpose: 1\n",
      "higher-order: 1\n",
      "Scala's: 1\n",
      "advanced: 1\n",
      "The: 1\n",
      "libraries: 1\n",
      "runs: 1\n",
      "overloading,: 1\n",
      "an: 1\n",
      "types: 1\n",
      "the: 3\n",
      "interoperability: 1\n",
      "immutability,: 1\n",
      "covariance: 1\n",
      "has: 2\n",
      "so: 2\n",
      "it: 1\n",
      "scalable: 1\n",
      "feature: 1\n",
      "support: 1\n",
      "Scala: 9\n",
      "Like: 1\n",
      "Standard: 1\n",
      "concise,: 1\n",
      "providing: 1\n",
      "system.: 1\n",
      "demands: 1\n",
      "proved: 1\n",
      "anonymous: 1\n",
      "(but: 1\n",
      "aimed: 1\n",
      "Scheme,: 1\n",
      "algebraic: 1\n",
      "criticisms: 1\n",
      "also: 1\n",
      "which: 1\n",
      "machine.: 1\n",
      "Java: 5\n",
      "object-oriented,: 1\n",
      "executable: 1\n",
      "designed: 1\n",
      "optional: 1\n",
      "parameters,: 2\n",
      "evaluation,: 1\n",
      "Java,: 3\n",
      "may: 1\n",
      "language: 2\n",
      "portmanteau: 1\n",
      "contravariance,: 1\n",
      "system: 1\n",
      "controversial.: 1\n",
      "virtual: 1\n"
     ]
    }
   ],
   "source": [
    "val mutableMap = scala.collection.mutable.HashMap.empty[String, Int].withDefaultValue(0)\n",
    "val in = new java.util.Scanner(new java.io.File(\"Chapter_04__myfile.txt\"))\n",
    "while (in.hasNext()) {\n",
    "    val line = in.next()\n",
    "    val words = line.split(\"\"\"\\\\W+\"\"\")\n",
    "    words.foreach { word =>\n",
    "        mutableMap(word) += 1\n",
    "    }\n",
    "}\n",
    "\n",
    "printMutableMap(mutableMap)"
   ]
  },
  {
   "cell_type": "markdown",
   "metadata": {},
   "source": [
    "### Qn#3. Repeat the preceding exercise with an immutable map."
   ]
  },
  {
   "cell_type": "code",
   "execution_count": 6,
   "metadata": {
    "ExecuteTime": {
     "end_time": "2017-07-13T20:40:10.586959Z",
     "start_time": "2017-07-13T20:40:02.968Z"
    }
   },
   "outputs": [
    {
     "name": "stdout",
     "output_type": "stream",
     "text": [
      "130\n",
      "contravariance,: 1\n",
      "language,: 1\n",
      "static: 1\n",
      "providing: 1\n",
      "ML: 1\n",
      "for: 1\n",
      "support: 1\n",
      "inference,: 1\n",
      "Like: 1\n",
      "decisions: 1\n",
      "name: 1\n",
      "lazy: 1\n",
      "Other: 1\n",
      "in: 4\n",
      "design: 1\n",
      "have: 1\n",
      "is: 6\n",
      "source: 1\n",
      "parameters,: 2\n",
      "feature: 1\n",
      "system: 1\n",
      "types,: 1\n",
      "pattern: 1\n",
      "strings.: 1\n",
      "anonymous: 1\n",
      "Haskell,: 1\n",
      "proved: 1\n",
      "(but: 1\n",
      "checked: 1\n",
      "Scala: 9\n",
      "Java.: 1\n",
      "designed: 1\n",
      "interoperability: 1\n",
      "uses: 1\n",
      "so: 2\n",
      "bytecode,: 1\n",
      "matching.: 1\n",
      "programming: 4\n",
      "features: 2\n",
      "present: 1\n",
      "advanced: 1\n",
      "Standard: 1\n",
      "data: 1\n",
      "covariance: 1\n",
      "intended: 1\n",
      "it: 1\n",
      "runs: 1\n",
      "a: 6\n",
      "Scheme,: 1\n",
      "provides: 1\n",
      "optional: 1\n",
      "portmanteau: 1\n",
      "has: 2\n",
      "object-oriented,: 1\n",
      "controversial.: 1\n",
      "concise,: 1\n",
      "or: 1\n",
      "strong: 1\n",
      "scalable: 1\n",
      "aimed: 1\n",
      "Designed: 1\n",
      "that: 3\n",
      "virtual: 1\n",
      "named: 1\n",
      "referenced: 1\n",
      "to: 5\n",
      "types.: 1\n",
      "Conversely,: 1\n",
      "code: 2\n",
      "exceptions,: 1\n",
      "syntax: 1\n",
      "The: 1\n",
      "also: 1\n",
      "supporting: 1\n",
      "on: 1\n",
      "languages: 2\n",
      "curly-brace: 1\n",
      "criticisms: 1\n",
      "language: 2\n",
      "raw: 1\n",
      "overloading,: 1\n",
      "Scala's: 1\n",
      "grow: 1\n",
      "operator: 1\n",
      "written: 1\n",
      "libraries: 1\n",
      "Java,: 3\n",
      "not: 3\n",
      "with: 2\n",
      "algebraic: 1\n",
      "general-purpose: 1\n",
      "signifying: 1\n",
      "higher-rank: 1\n",
      "include: 1\n",
      "C: 1\n",
      "language.: 1\n",
      "both: 1\n",
      "address: 1\n",
      "currying,: 1\n",
      "It: 1\n",
      "its: 1\n",
      "users.: 1\n",
      "which: 1\n",
      "an: 1\n",
      "immutability,: 1\n",
      "compiled: 1\n",
      "machine.: 1\n",
      "code.: 1\n",
      "be: 3\n",
      "higher-order: 1\n",
      "directly: 1\n",
      "Unlike: 1\n",
      "type: 3\n",
      "system.: 1\n",
      "demands: 1\n",
      "many: 2\n",
      "types: 1\n",
      "Java: 5\n",
      "types),: 1\n",
      "functional: 2\n",
      "executable: 1\n",
      "including: 1\n",
      "evaluation,: 1\n",
      "may: 1\n",
      "like: 1\n",
      "of: 8\n",
      "and: 8\n",
      "reminiscent: 1\n",
      "resulting: 1\n",
      "the: 3\n"
     ]
    }
   ],
   "source": [
    "var immutableMap = Map.empty[String,Int].withDefaultValue(0)\n",
    "val in = new java.util.Scanner(new java.io.File(\"Chapter_04__myfile.txt\"))\n",
    "while(in.hasNext()){\n",
    "    val line = in.next()\n",
    "    val words = line.split(\"\"\"\\\\W+\"\"\")\n",
    "    words.foreach { word =>\n",
    "        immutableMap += word -> (immutableMap(word) + 1)\n",
    "    }\n",
    "}\n",
    "printMap(immutableMap)"
   ]
  },
  {
   "cell_type": "markdown",
   "metadata": {},
   "source": [
    "### Qn#4. Repeat the preceding exercise with a sorted map, so that the words are printed in sorted order."
   ]
  },
  {
   "cell_type": "code",
   "execution_count": 7,
   "metadata": {
    "ExecuteTime": {
     "end_time": "2017-07-13T20:40:12.379309Z",
     "start_time": "2017-07-13T20:40:02.968Z"
    }
   },
   "outputs": [
    {
     "name": "stdout",
     "output_type": "stream",
     "text": [
      "130\n",
      "(but: 1\n",
      "C: 1\n",
      "Conversely,: 1\n",
      "Designed: 1\n",
      "Haskell,: 1\n",
      "It: 1\n",
      "Java: 5\n",
      "Java,: 3\n",
      "Java.: 1\n",
      "Like: 1\n",
      "ML: 1\n",
      "Other: 1\n",
      "Scala: 9\n",
      "Scala's: 1\n",
      "Scheme,: 1\n",
      "Standard: 1\n",
      "The: 1\n",
      "Unlike: 1\n",
      "a: 6\n",
      "address: 1\n",
      "advanced: 1\n",
      "aimed: 1\n",
      "algebraic: 1\n",
      "also: 1\n",
      "an: 1\n",
      "and: 8\n",
      "anonymous: 1\n",
      "be: 3\n",
      "both: 1\n",
      "bytecode,: 1\n",
      "checked: 1\n",
      "code: 2\n",
      "code.: 1\n",
      "compiled: 1\n",
      "concise,: 1\n",
      "contravariance,: 1\n",
      "controversial.: 1\n",
      "covariance: 1\n",
      "criticisms: 1\n",
      "curly-brace: 1\n",
      "currying,: 1\n",
      "data: 1\n",
      "decisions: 1\n",
      "demands: 1\n",
      "design: 1\n",
      "designed: 1\n",
      "directly: 1\n",
      "evaluation,: 1\n",
      "exceptions,: 1\n",
      "executable: 1\n",
      "feature: 1\n",
      "features: 2\n",
      "for: 1\n",
      "functional: 2\n",
      "general-purpose: 1\n",
      "grow: 1\n",
      "has: 2\n",
      "have: 1\n",
      "higher-order: 1\n",
      "higher-rank: 1\n",
      "immutability,: 1\n",
      "in: 4\n",
      "include: 1\n",
      "including: 1\n",
      "inference,: 1\n",
      "intended: 1\n",
      "interoperability: 1\n",
      "is: 6\n",
      "it: 1\n",
      "its: 1\n",
      "language: 2\n",
      "language,: 1\n",
      "language.: 1\n",
      "languages: 2\n",
      "lazy: 1\n",
      "libraries: 1\n",
      "like: 1\n",
      "machine.: 1\n",
      "many: 2\n",
      "matching.: 1\n",
      "may: 1\n",
      "name: 1\n",
      "named: 1\n",
      "not: 3\n",
      "object-oriented,: 1\n",
      "of: 8\n",
      "on: 1\n",
      "operator: 1\n",
      "optional: 1\n",
      "or: 1\n",
      "overloading,: 1\n",
      "parameters,: 2\n",
      "pattern: 1\n",
      "portmanteau: 1\n",
      "present: 1\n",
      "programming: 4\n",
      "proved: 1\n",
      "provides: 1\n",
      "providing: 1\n",
      "raw: 1\n",
      "referenced: 1\n",
      "reminiscent: 1\n",
      "resulting: 1\n",
      "runs: 1\n",
      "scalable: 1\n",
      "signifying: 1\n",
      "so: 2\n",
      "source: 1\n",
      "static: 1\n",
      "strings.: 1\n",
      "strong: 1\n",
      "support: 1\n",
      "supporting: 1\n",
      "syntax: 1\n",
      "system: 1\n",
      "system.: 1\n",
      "that: 3\n",
      "the: 3\n",
      "to: 5\n",
      "type: 3\n",
      "types: 1\n",
      "types),: 1\n",
      "types,: 1\n",
      "types.: 1\n",
      "users.: 1\n",
      "uses: 1\n",
      "virtual: 1\n",
      "which: 1\n",
      "with: 2\n",
      "written: 1\n"
     ]
    }
   ],
   "source": [
    "val sortedMap = scala.collection.immutable.SortedMap.empty[String, Int] ++ immutableMap\n",
    "\n",
    "printMap(sortedMap)"
   ]
  },
  {
   "cell_type": "markdown",
   "metadata": {},
   "source": [
    "### Qn#5. Repeat the preceding exercise with a `java.util.TreeMap` that you adapt to the Scala API."
   ]
  },
  {
   "cell_type": "code",
   "execution_count": 8,
   "metadata": {
    "ExecuteTime": {
     "end_time": "2017-07-13T20:40:13.257861Z",
     "start_time": "2017-07-13T20:40:02.968Z"
    }
   },
   "outputs": [
    {
     "name": "stdout",
     "output_type": "stream",
     "text": [
      "130\n",
      "(but: 1\n",
      "C: 1\n",
      "Conversely,: 1\n",
      "Designed: 1\n",
      "Haskell,: 1\n",
      "It: 1\n",
      "Java: 5\n",
      "Java,: 3\n",
      "Java.: 1\n",
      "Like: 1\n",
      "ML: 1\n",
      "Other: 1\n",
      "Scala: 9\n",
      "Scala's: 1\n",
      "Scheme,: 1\n",
      "Standard: 1\n",
      "The: 1\n",
      "Unlike: 1\n",
      "a: 6\n",
      "address: 1\n",
      "advanced: 1\n",
      "aimed: 1\n",
      "algebraic: 1\n",
      "also: 1\n",
      "an: 1\n",
      "and: 8\n",
      "anonymous: 1\n",
      "be: 3\n",
      "both: 1\n",
      "bytecode,: 1\n",
      "checked: 1\n",
      "code: 2\n",
      "code.: 1\n",
      "compiled: 1\n",
      "concise,: 1\n",
      "contravariance,: 1\n",
      "controversial.: 1\n",
      "covariance: 1\n",
      "criticisms: 1\n",
      "curly-brace: 1\n",
      "currying,: 1\n",
      "data: 1\n",
      "decisions: 1\n",
      "demands: 1\n",
      "design: 1\n",
      "designed: 1\n",
      "directly: 1\n",
      "evaluation,: 1\n",
      "exceptions,: 1\n",
      "executable: 1\n",
      "feature: 1\n",
      "features: 2\n",
      "for: 1\n",
      "functional: 2\n",
      "general-purpose: 1\n",
      "grow: 1\n",
      "has: 2\n",
      "have: 1\n",
      "higher-order: 1\n",
      "higher-rank: 1\n",
      "immutability,: 1\n",
      "in: 4\n",
      "include: 1\n",
      "including: 1\n",
      "inference,: 1\n",
      "intended: 1\n",
      "interoperability: 1\n",
      "is: 6\n",
      "it: 1\n",
      "its: 1\n",
      "language: 2\n",
      "language,: 1\n",
      "language.: 1\n",
      "languages: 2\n",
      "lazy: 1\n",
      "libraries: 1\n",
      "like: 1\n",
      "machine.: 1\n",
      "many: 2\n",
      "matching.: 1\n",
      "may: 1\n",
      "name: 1\n",
      "named: 1\n",
      "not: 3\n",
      "object-oriented,: 1\n",
      "of: 8\n",
      "on: 1\n",
      "operator: 1\n",
      "optional: 1\n",
      "or: 1\n",
      "overloading,: 1\n",
      "parameters,: 2\n",
      "pattern: 1\n",
      "portmanteau: 1\n",
      "present: 1\n",
      "programming: 4\n",
      "proved: 1\n",
      "provides: 1\n",
      "providing: 1\n",
      "raw: 1\n",
      "referenced: 1\n",
      "reminiscent: 1\n",
      "resulting: 1\n",
      "runs: 1\n",
      "scalable: 1\n",
      "signifying: 1\n",
      "so: 2\n",
      "source: 1\n",
      "static: 1\n",
      "strings.: 1\n",
      "strong: 1\n",
      "support: 1\n",
      "supporting: 1\n",
      "syntax: 1\n",
      "system: 1\n",
      "system.: 1\n",
      "that: 3\n",
      "the: 3\n",
      "to: 5\n",
      "type: 3\n",
      "types: 1\n",
      "types),: 1\n",
      "types,: 1\n",
      "types.: 1\n",
      "users.: 1\n",
      "uses: 1\n",
      "virtual: 1\n",
      "which: 1\n",
      "with: 2\n",
      "written: 1\n"
     ]
    }
   ],
   "source": [
    "import scala.collection.JavaConversions.mapAsScalaMap\n",
    "import java.util.TreeMap\n",
    "\n",
    "var treeMap = new TreeMap[String, Int]()\n",
    "val in = new java.util.Scanner(new java.io.File(\"Chapter_04__myfile.txt\"))\n",
    "while(in.hasNext()){\n",
    "    val line = in.next()\n",
    "    val words = line.split(\"\"\"\\\\W+\"\"\")\n",
    "    words.foreach { word =>\n",
    "        if(treeMap.contains(word)) {\n",
    "            treeMap(word) += 1\n",
    "        } else {\n",
    "            treeMap(word) = 1\n",
    "        }\n",
    "    }\n",
    "}\n",
    "\n",
    "printMutableMap(treeMap)"
   ]
  },
  {
   "cell_type": "markdown",
   "metadata": {},
   "source": [
    "### Qn#6. Define a linked hash map that maps `\"Monday\"` to `java.util.Calendar.MONDAY`, and similarly for the other weekdays. Demonstrate that the elements are visited in insertion order."
   ]
  },
  {
   "cell_type": "code",
   "execution_count": 9,
   "metadata": {
    "ExecuteTime": {
     "end_time": "2017-07-13T20:40:14.283483Z",
     "start_time": "2017-07-13T20:40:02.968Z"
    }
   },
   "outputs": [
    {
     "name": "stdout",
     "output_type": "stream",
     "text": [
      "7\n",
      "SUNDAY: 1\n",
      "MONDAY: 2\n",
      "TUESDAY: 3\n",
      "WEDNESDAY: 4\n",
      "THURSDAY: 5\n",
      "FRIDAY: 6\n",
      "SATURDAY: 7\n"
     ]
    }
   ],
   "source": [
    "import java.util.Calendar._\n",
    "\n",
    "val weekDays = scala.collection.mutable.LinkedHashMap[String, Int](\n",
    "    \"SUNDAY\" -> SUNDAY,\n",
    "    \"MONDAY\" -> MONDAY,\n",
    "    \"TUESDAY\" -> TUESDAY,\n",
    "    \"WEDNESDAY\" -> WEDNESDAY,\n",
    "    \"THURSDAY\" -> THURSDAY,\n",
    "    \"FRIDAY\" -> FRIDAY,\n",
    "    \"SATURDAY\" -> SATURDAY\n",
    ")\n",
    "\n",
    "printMutableMap(weekDays)"
   ]
  },
  {
   "cell_type": "markdown",
   "metadata": {},
   "source": [
    "### Qn#7. Print a table of all Java properties reported by the getProperties method of the java.lang.System class, like this:\n",
    "\n",
    "```\n",
    "java.runtime.name             |\tJava(TM) SE Runtime Environment\n",
    "sun.boot.library.path         | /home/apps/jdk1.6.0_21/jre/lib/i386\n",
    "java.vm.version               | 17.0-b16\n",
    "java.vm.vendor                | Sun Microsystems Inc.\n",
    "java.vendor.url               | http://java.sun.com/\n",
    "path.separator                | :\n",
    "java.vm.name                  | Java HotSpot(TM) Server VM\n",
    "```\n",
    "\n",
    "#### You need to find the length of the longest key before you can print the table."
   ]
  },
  {
   "cell_type": "code",
   "execution_count": 10,
   "metadata": {
    "ExecuteTime": {
     "end_time": "2017-07-13T20:40:16.191196Z",
     "start_time": "2017-07-13T20:40:02.984Z"
    }
   },
   "outputs": [
    {
     "name": "stdout",
     "output_type": "stream",
     "text": [
      "java.runtime.name            |\tOpenJDK Runtime Environment\n",
      "sun.boot.library.path        |\t/usr/lib/jvm/java-8-openjdk-amd64/jre/lib/amd64\n",
      "java.vm.version              |\t25.131-b11\n",
      "java.vm.vendor               |\tOracle Corporation\n",
      "java.vendor.url              |\thttp://java.oracle.com/\n",
      "path.separator               |\t:\n",
      "java.vm.name                 |\tOpenJDK 64-Bit Server VM\n",
      "file.encoding.pkg            |\tsun.io\n",
      "user.country                 |\tUS\n",
      "sun.java.launcher            |\tSUN_STANDARD\n",
      "sun.os.patch.level           |\tunknown\n",
      "log4j.logLevel               |\tinfo\n",
      "java.vm.specification.name   |\tJava Virtual Machine Specification\n",
      "user.dir                     |\t/home/jovyan\n",
      "java.runtime.version         |\t1.8.0_131-8u131-b11-2ubuntu1.16.04.3-b11\n",
      "SPARK_SUBMIT                 |\ttrue\n",
      "java.awt.graphicsenv         |\tsun.awt.X11GraphicsEnvironment\n",
      "java.endorsed.dirs           |\t/usr/lib/jvm/java-8-openjdk-amd64/jre/lib/endorsed\n",
      "os.arch                      |\tamd64\n",
      "java.io.tmpdir               |\t/tmp\n",
      "line.separator               |\t\n",
      "\n",
      "java.vm.specification.vendor |\tOracle Corporation\n",
      "os.name                      |\tLinux\n",
      "spark.master                 |\tlocal[*]\n",
      "sun.jnu.encoding             |\tUTF-8\n",
      "java.library.path            |\t/usr/java/packages/lib/amd64:/usr/lib/x86_64-linux-gnu/jni:/lib/x86_64-linux-gnu:/usr/lib/x86_64-linux-gnu:/usr/lib/jni:/lib:/usr/lib\n",
      "sun.nio.ch.bugLevel          |\t\n",
      "java.specification.name      |\tJava Platform API Specification\n",
      "java.class.version           |\t52.0\n",
      "sun.management.compiler      |\tHotSpot 64-Bit Tiered Compilers\n",
      "spark.submit.deployMode      |\tclient\n",
      "os.version                   |\t3.13.0-106-generic\n",
      "user.home                    |\t/home/jovyan\n",
      "user.timezone                |\tEtc/UTC\n",
      "java.awt.printerjob          |\tsun.print.PSPrinterJob\n",
      "file.encoding                |\tUTF-8\n",
      "java.specification.version   |\t1.8\n",
      "spark.app.name               |\torg.apache.toree.Main\n",
      "java.class.path              |\t/usr/local/spark/conf/:/usr/local/spark/jars/macro-compat_2.11-1.1.1.jar:/usr/local/spark/jars/jersey-client-2.22.2.jar:/usr/local/spark/jars/datanucleus-rdbms-3.2.9.jar:/usr/local/spark/jars/commons-dbcp-1.4.jar:/usr/local/spark/jars/spark-catalyst_2.11-2.2.0.jar:/usr/local/spark/jars/leveldbjni-all-1.8.jar:/usr/local/spark/jars/scalap-2.11.8.jar:/usr/local/spark/jars/jaxb-api-2.2.2.jar:/usr/local/spark/jars/javax.inject-2.4.0-b34.jar:/usr/local/spark/jars/metrics-core-3.1.2.jar:/usr/local/spark/jars/guava-14.0.1.jar:/usr/local/spark/jars/api-asn1-api-1.0.0-M20.jar:/usr/local/spark/jars/avro-ipc-1.7.7.jar:/usr/local/spark/jars/commons-net-2.2.jar:/usr/local/spark/jars/httpcore-4.4.4.jar:/usr/local/spark/jars/avro-1.7.7.jar:/usr/local/spark/jars/bcprov-jdk15on-1.51.jar:/usr/local/spark/jars/jackson-module-paranamer-2.6.5.jar:/usr/local/spark/jars/commons-configuration-1.6.jar:/usr/local/spark/jars/opencsv-2.3.jar:/usr/local/spark/jars/zookeeper-3.4.6.jar:/usr/local/spark/jars/json4s-jackson_2.11-3.2.11.jar:/usr/local/spark/jars/pmml-model-1.2.15.jar:/usr/local/spark/jars/commons-collections-3.2.2.jar:/usr/local/spark/jars/jetty-util-6.1.26.jar:/usr/local/spark/jars/kryo-shaded-3.0.3.jar:/usr/local/spark/jars/javolution-5.5.1.jar:/usr/local/spark/jars/spark-yarn_2.11-2.2.0.jar:/usr/local/spark/jars/arpack_combined_all-0.1.jar:/usr/local/spark/jars/httpclient-4.5.2.jar:/usr/local/spark/jars/stax-api-1.0.1.jar:/usr/local/spark/jars/objenesis-2.1.jar:/usr/local/spark/jars/hadoop-yarn-server-common-2.7.3.jar:/usr/local/spark/jars/snappy-0.2.jar:/usr/local/spark/jars/spark-graphx_2.11-2.2.0.jar:/usr/local/spark/jars/jpam-1.1.jar:/usr/local/spark/jars/stream-2.7.0.jar:/usr/local/spark/jars/hive-metastore-1.2.1.spark2.jar:/usr/local/spark/jars/hadoop-mapreduce-client-common-2.7.3.jar:/usr/local/spark/jars/bonecp-0.8.0.RELEASE.jar:/usr/local/spark/jars/spark-streaming_2.11-2.2.0.jar:/usr/local/spark/jars/xercesImpl-2.9.1.jar:/usr/local/spark/jars/derby-10.12.1.1.jar:/usr/local/spark/jars/ST4-4.0.4.jar:/usr/local/spark/jars/metrics-json-3.1.2.jar:/usr/local/spark/jars/commons-lang-2.6.jar:/usr/local/spark/jars/jsp-api-2.1.jar:/usr/local/spark/jars/py4j-0.10.4.jar:/usr/local/spark/jars/hadoop-mapreduce-client-app-2.7.3.jar:/usr/local/spark/jars/commons-logging-1.1.3.jar:/usr/local/spark/jars/libfb303-0.9.3.jar:/usr/local/spark/jars/jersey-server-2.22.2.jar:/usr/local/spark/jars/jackson-annotations-2.6.5.jar:/usr/local/spark/jars/super-csv-2.2.0.jar:/usr/local/spark/jars/parquet-common-1.8.2.jar:/usr/local/spark/jars/spark-sketch_2.11-2.2.0.jar:/usr/local/spark/jars/spark-sql_2.11-2.2.0.jar:/usr/local/spark/jars/commons-math3-3.4.1.jar:/usr/local/spark/jars/snappy-java-1.1.2.6.jar:/usr/local/spark/jars/shapeless_2.11-2.3.2.jar:/usr/local/spark/jars/hadoop-mapreduce-client-jobclient-2.7.3.jar:/usr/local/spark/jars/jcl-over-slf4j-1.7.16.jar:/usr/local/spark/jars/JavaEWAH-0.3.2.jar:/usr/local/spark/jars/paranamer-2.6.jar:/usr/local/spark/jars/api-util-1.0.0-M20.jar:/usr/local/spark/jars/hadoop-yarn-server-web-proxy-2.7.3.jar:/usr/local/spark/jars/jackson-module-scala_2.11-2.6.5.jar:/usr/local/spark/jars/commons-digester-1.8.jar:/usr/local/spark/jars/javax.servlet-api-3.1.0.jar:/usr/local/spark/jars/hadoop-yarn-common-2.7.3.jar:/usr/local/spark/jars/compress-lzf-1.0.3.jar:/usr/local/spark/jars/scala-reflect-2.11.8.jar:/usr/local/spark/jars/univocity-parsers-2.2.1.jar:/usr/local/spark/jars/breeze-macros_2.11-0.13.1.jar:/usr/local/spark/jars/parquet-jackson-1.8.2.jar:/usr/local/spark/jars/metrics-jvm-3.1.2.jar:/usr/local/spark/jars/commons-lang3-3.5.jar:/usr/local/spark/jars/jersey-guava-2.22.2.jar:/usr/local/spark/jars/scala-compiler-2.11.8.jar:/usr/local/spark/jars/spark-repl_2.11-2.2.0.jar:/usr/local/spark/jars/commons-crypto-1.0.0.jar:/usr/local/spark/jars/jackson-xc-1.9.13.jar:/usr/local/spark/jars/curator-client-2.6.0.jar:/usr/local/spark/jars/jetty-6.1.26.jar:/usr/local/spark/jars/gson-2.2.4.jar:/usr/local/spark/jars/hadoop-mapreduce-client-core-2.7.3.jar:/usr/local/spark/jars/java-xmlbuilder-1.0.jar:/usr/local/spark/jars/aopalliance-1.0.jar:/usr/local/spark/jars/libthrift-0.9.3.jar:/usr/local/spark/jars/jets3t-0.9.3.jar:/usr/local/spark/jars/core-1.1.2.jar:/usr/local/spark/jars/calcite-avatica-1.2.0-incubating.jar:/usr/local/spark/jars/hadoop-hdfs-2.7.3.jar:/usr/local/spark/jars/machinist_2.11-0.6.1.jar:/usr/local/spark/jars/slf4j-log4j12-1.7.16.jar:/usr/local/spark/jars/hive-exec-1.2.1.spark2.jar:/usr/local/spark/jars/janino-3.0.0.jar:/usr/local/spark/jars/apacheds-i18n-2.0.0-M15.jar:/usr/local/spark/jars/hk2-locator-2.4.0-b34.jar:/usr/local/spark/jars/antlr-runtime-3.4.jar:/usr/local/spark/jars/scala-xml_2.11-1.0.2.jar:/usr/local/spark/jars/hadoop-auth-2.7.3.jar:/usr/local/spark/jars/scala-parser-combinators_2.11-1.0.4.jar:/usr/local/spark/jars/commons-io-2.4.jar:/usr/local/spark/jars/spark-hive_2.11-2.2.0.jar:/usr/local/spark/jars/netty-all-4.0.43.Final.jar:/usr/local/spark/jars/json4s-ast_2.11-3.2.11.jar:/usr/local/spark/jars/spark-launcher_2.11-2.2.0.jar:/usr/local/spark/jars/htrace-core-3.1.0-incubating.jar:/usr/local/spark/jars/datanucleus-core-3.2.10.jar:/usr/local/spark/jars/jackson-core-asl-1.9.13.jar:/usr/local/spark/jars/hive-jdbc-1.2.1.spark2.jar:/usr/local/spark/jars/parquet-format-2.3.1.jar:/usr/local/spark/jars/calcite-core-1.2.0-incubating.jar:/usr/local/spark/jars/spire-macros_2.11-0.13.0.jar:/usr/local/spark/jars/hk2-api-2.4.0-b34.jar:/usr/local/spark/jars/metrics-graphite-3.1.2.jar:/usr/local/spark/jars/apache-log4j-extras-1.2.17.jar:/usr/local/spark/jars/javax.inject-1.jar:/usr/local/spark/jars/aopalliance-repackaged-2.4.0-b34.jar:/usr/local/spark/jars/mail-1.4.7.jar:/usr/local/spark/jars/commons-cli-1.2.jar:/usr/local/spark/jars/jtransforms-2.4.0.jar:/usr/local/spark/jars/javax.annotation-api-1.2.jar:/usr/local/spark/jars/stax-api-1.0-2.jar:/usr/local/spark/jars/spark-mllib-local_2.11-2.2.0.jar:/usr/local/spark/jars/guice-3.0.jar:/usr/local/spark/jars/javax.ws.rs-api-2.0.1.jar:/usr/local/spark/jars/curator-framework-2.6.0.jar:/usr/local/spark/jars/spark-mllib_2.11-2.2.0.jar:/usr/local/spark/jars/commons-httpclient-3.1.jar:/usr/local/spark/jars/jackson-mapper-asl-1.9.13.jar:/usr/local/spark/jars/commons-beanutils-1.7.0.jar:/usr/local/spark/jars/parquet-encoding-1.8.2.jar:/usr/local/spark/jars/jersey-container-servlet-core-2.22.2.jar:/usr/local/spark/jars/pyrolite-4.13.jar:/usr/local/spark/jars/netty-3.9.9.Final.jar:/usr/local/spark/jars/base64-2.3.8.jar:/usr/local/spark/jars/antlr4-runtime-4.5.3.jar:/usr/local/spark/jars/oro-2.0.8.jar:/usr/local/spark/jars/datanucleus-api-jdo-3.2.6.jar:/usr/local/spark/jars/guice-servlet-3.0.jar:/usr/local/spark/jars/hadoop-yarn-client-2.7.3.jar:/usr/local/spark/jars/jersey-common-2.22.2.jar:/usr/local/spark/jars/commons-compress-1.4.1.jar:/usr/local/spark/jars/apacheds-kerberos-codec-2.0.0-M15.jar:/usr/local/spark/jars/joda-time-2.9.3.jar:/usr/local/spark/jars/jersey-media-jaxb-2.22.2.jar:/usr/local/spark/jars/hive-cli-1.2.1.spark2.jar:/usr/local/spark/jars/calcite-linq4j-1.2.0-incubating.jar:/usr/local/spark/jars/breeze_2.11-0.13.1.jar:/usr/local/spark/jars/jackson-jaxrs-1.9.13.jar:/usr/local/spark/jars/javassist-3.18.1-GA.jar:/usr/local/spark/jars/commons-codec-1.10.jar:/usr/local/spark/jars/jline-2.12.1.jar:/usr/local/spark/jars/log4j-1.2.17.jar:/usr/local/spark/jars/xbean-asm5-shaded-4.4.jar:/usr/local/spark/jars/scala-library-2.11.8.jar:/usr/local/spark/jars/spark-tags_2.11-2.2.0.jar:/usr/local/spark/jars/hk2-utils-2.4.0-b34.jar:/usr/local/spark/jars/curator-recipes-2.6.0.jar:/usr/local/spark/jars/hadoop-mapreduce-client-shuffle-2.7.3.jar:/usr/local/spark/jars/spire_2.11-0.13.0.jar:/usr/local/spark/jars/hadoop-common-2.7.3.jar:/usr/local/spark/jars/xz-1.0.jar:/usr/local/spark/jars/hive-beeline-1.2.1.spark2.jar:/usr/local/spark/jars/avro-mapred-1.7.7-hadoop2.jar:/usr/local/spark/jars/minlog-1.3.0.jar:/usr/local/spark/jars/json4s-core_2.11-3.2.11.jar:/usr/local/spark/jars/commons-beanutils-core-1.8.0.jar:/usr/local/spark/jars/hadoop-annotations-2.7.3.jar:/usr/local/spark/jars/parquet-hadoop-1.8.2.jar:/usr/local/spark/jars/pmml-schema-1.2.15.jar:/usr/local/spark/jars/jul-to-slf4j-1.7.16.jar:/usr/local/spark/jars/stringtemplate-3.2.1.jar:/usr/local/spark/jars/protobuf-java-2.5.0.jar:/usr/local/spark/jars/validation-api-1.1.0.Final.jar:/usr/local/spark/jars/chill_2.11-0.8.0.jar:/usr/local/spark/jars/parquet-column-1.8.2.jar:/usr/local/spark/jars/eigenbase-properties-1.1.5.jar:/usr/local/spark/jars/xmlenc-0.52.jar:/usr/local/spark/jars/mx4j-3.0.2.jar:/usr/local/spark/jars/spark-network-shuffle_2.11-2.2.0.jar:/usr/local/spark/jars/activation-1.1.1.jar:/usr/local/spark/jars/hadoop-yarn-api-2.7.3.jar:/usr/local/spark/jars/spark-network-common_2.11-2.2.0.jar:/usr/local/spark/jars/commons-pool-1.5.4.jar:/usr/local/spark/jars/spark-hive-thriftserver_2.11-2.2.0.jar:/usr/local/spark/jars/hadoop-client-2.7.3.jar:/usr/local/spark/jars/slf4j-api-1.7.16.jar:/usr/local/spark/jars/chill-java-0.8.0.jar:/usr/local/spark/jars/jsr305-1.3.9.jar:/usr/local/spark/jars/mesos-1.0.0-shaded-protobuf.jar:/usr/local/spark/jars/spark-mesos_2.11-2.2.0.jar:/usr/local/spark/jars/lz4-1.3.0.jar:/usr/local/spark/jars/jackson-databind-2.6.5.jar:/usr/local/spark/jars/jackson-core-2.6.5.jar:/usr/local/spark/jars/ivy-2.4.0.jar:/usr/local/spark/jars/jta-1.1.jar:/usr/local/spark/jars/spark-core_2.11-2.2.0.jar:/usr/local/spark/jars/antlr-2.7.7.jar:/usr/local/spark/jars/RoaringBitmap-0.5.11.jar:/usr/local/spark/jars/jodd-core-3.5.2.jar:/usr/local/spark/jars/osgi-resource-locator-1.0.1.jar:/usr/local/spark/jars/parquet-hadoop-bundle-1.6.0.jar:/usr/local/spark/jars/jdo-api-3.0.1.jar:/usr/local/spark/jars/jersey-container-servlet-2.22.2.jar:/usr/local/spark/jars/commons-compiler-3.0.0.jar:/usr/local/spark/jars/spark-unsafe_2.11-2.2.0.jar\n",
      "user.name                    |\tjovyan\n",
      "java.vm.specification.version|\t1.8\n",
      "sun.java.command             |\torg.apache.spark.deploy.SparkSubmit --conf spark.driver.extraJavaOptions=-Dlog4j.logLevel=info --class org.apache.toree.Main /opt/conda/share/jupyter/kernels/apache_toree_scala/lib/toree-assembly-0.2.0.dev1-incubating-SNAPSHOT.jar --profile /home/jovyan/.local/share/jupyter/runtime/kernel-e149be8d-97d6-4fc2-8408-8179c0fae45d.json\n",
      "java.home                    |\t/usr/lib/jvm/java-8-openjdk-amd64/jre\n",
      "sun.arch.data.model          |\t64\n",
      "user.language                |\ten\n",
      "java.specification.vendor    |\tOracle Corporation\n",
      "awt.toolkit                  |\tsun.awt.X11.XToolkit\n",
      "java.vm.info                 |\tmixed mode\n",
      "java.version                 |\t1.8.0_131\n",
      "java.ext.dirs                |\t/usr/lib/jvm/java-8-openjdk-amd64/jre/lib/ext:/usr/java/packages/lib/ext\n",
      "sun.boot.class.path          |\t/usr/lib/jvm/java-8-openjdk-amd64/jre/lib/resources.jar:/usr/lib/jvm/java-8-openjdk-amd64/jre/lib/rt.jar:/usr/lib/jvm/java-8-openjdk-amd64/jre/lib/sunrsasign.jar:/usr/lib/jvm/java-8-openjdk-amd64/jre/lib/jsse.jar:/usr/lib/jvm/java-8-openjdk-amd64/jre/lib/jce.jar:/usr/lib/jvm/java-8-openjdk-amd64/jre/lib/charsets.jar:/usr/lib/jvm/java-8-openjdk-amd64/jre/lib/jfr.jar:/usr/lib/jvm/java-8-openjdk-amd64/jre/classes\n",
      "java.vendor                  |\tOracle Corporation\n",
      "file.separator               |\t/\n",
      "java.vendor.url.bug          |\thttp://bugreport.sun.com/bugreport/\n",
      "sun.io.unicode.encoding      |\tUnicodeLittle\n",
      "sun.cpu.endian               |\tlittle\n",
      "spark.repl.class.outputDir   |\t/tmp/spark-300443d9-d8f6-4011-b8f6-12a22117728a/repl-08b38506-0ad3-4b7c-aac8-af271bbf7d9f\n",
      "spark.driver.extraJavaOptions|\t-Dlog4j.logLevel=info\n",
      "spark.jars                   |\tfile:/opt/conda/share/jupyter/kernels/apache_toree_scala/lib/toree-assembly-0.2.0.dev1-incubating-SNAPSHOT.jar\n",
      "sun.cpu.isalist              |\t\n",
      "\n"
     ]
    }
   ],
   "source": [
    "import scala.collection.JavaConversions.propertiesAsScalaMap\n",
    "\n",
    "val properties: scala.collection.Map[String, String] = System.getProperties\n",
    "val maxLength = properties.keys.maxBy(_.length).length\n",
    "\n",
    "val sbd = new StringBuilder()\n",
    "properties.foreach { case(key, value) =>\n",
    "    sbd.append(key)\n",
    "        .append(\" \" * (maxLength - key.length))\n",
    "        .append(\"|\\t\")\n",
    "        .append(value)\n",
    "        .append(\"\\n\")\n",
    "}\n",
    "println(sbd.toString)"
   ]
  },
  {
   "cell_type": "markdown",
   "metadata": {},
   "source": [
    "### Qn#8.  Write a function `minmax(values: Array[Int])` that returns a pair containing the smallest and the largest values in the array."
   ]
  },
  {
   "cell_type": "code",
   "execution_count": 11,
   "metadata": {
    "ExecuteTime": {
     "end_time": "2017-07-13T20:40:20.345697Z",
     "start_time": "2017-07-13T20:40:03.059Z"
    }
   },
   "outputs": [
    {
     "data": {
      "text/plain": [
       "(-20,121)"
      ]
     },
     "execution_count": 11,
     "metadata": {},
     "output_type": "execute_result"
    }
   ],
   "source": [
    "val a = Array(1, 9, 121, 71, 21, -5, 15, 0, -20, 10, -6, 9, 20, -2)\n",
    "\n",
    "def minmax(values: Array[Int]) = {\n",
    "    (values.min, values.max)\n",
    "}\n",
    "\n",
    "minmax(a)"
   ]
  },
  {
   "cell_type": "markdown",
   "metadata": {},
   "source": [
    "### Qn#9. Write a function `lteqgt(values: Array[Int], v: Int)` that returns a triple containing the counts of values less than v, equal to v, and greater than v."
   ]
  },
  {
   "cell_type": "code",
   "execution_count": 12,
   "metadata": {
    "ExecuteTime": {
     "end_time": "2017-07-13T20:40:22.363771Z",
     "start_time": "2017-07-13T20:40:03.064Z"
    }
   },
   "outputs": [
    {
     "data": {
      "text/plain": [
       "(8,1,5)"
      ]
     },
     "execution_count": 12,
     "metadata": {},
     "output_type": "execute_result"
    }
   ],
   "source": [
    "val a = Array(1, 9, 121, 71, 21, -5, 15, 0, -20, 10, -6, 9, 20, -2)\n",
    "\n",
    "def lteqgt(values: Array[Int], v: Int) = {\n",
    "    (values.count(_ < v), values.count(_ == v), values.count(_ > v))\n",
    "}\n",
    "\n",
    "lteqgt(a, 10)"
   ]
  },
  {
   "cell_type": "markdown",
   "metadata": {},
   "source": [
    "### Qn#10. What happens when you zip together two strings, such as `\"Hello\".zip(\"World\")`? Come up with a plausible use case."
   ]
  },
  {
   "cell_type": "code",
   "execution_count": 13,
   "metadata": {
    "ExecuteTime": {
     "end_time": "2017-07-13T20:40:24.781253Z",
     "start_time": "2017-07-13T20:40:03.071Z"
    }
   },
   "outputs": [
    {
     "data": {
      "text/plain": [
       "Vector((H,W), (e,o), (l,r), (l,l), (o,d))"
      ]
     },
     "execution_count": 13,
     "metadata": {},
     "output_type": "execute_result"
    }
   ],
   "source": [
    "\"Hello\".zip(\"World\")"
   ]
  }
 ],
 "metadata": {
  "kernelspec": {
   "display_name": "Apache Toree - Scala",
   "language": "scala",
   "name": "apache_toree_scala"
  },
  "language_info": {
   "file_extension": ".scala",
   "name": "scala",
   "version": "2.11.8"
  },
  "toc": {
   "colors": {
    "hover_highlight": "#DAA520",
    "navigate_num": "#000000",
    "navigate_text": "#333333",
    "running_highlight": "#FF0000",
    "selected_highlight": "#FFD700",
    "sidebar_border": "#EEEEEE",
    "wrapper_background": "#FFFFFF"
   },
   "moveMenuLeft": true,
   "nav_menu": {
    "height": "511px",
    "width": "252px"
   },
   "navigate_menu": true,
   "number_sections": true,
   "sideBar": true,
   "threshold": 4,
   "toc_cell": false,
   "toc_section_display": "block",
   "toc_window_display": false,
   "widenNotebook": false
  }
 },
 "nbformat": 4,
 "nbformat_minor": 1
}
