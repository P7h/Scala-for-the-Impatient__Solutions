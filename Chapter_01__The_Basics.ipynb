{
 "cells": [
  {
   "cell_type": "markdown",
   "metadata": {},
   "source": [
    "# Scala for the Impatient -- 2nd Edition\n",
    "----\n",
    "\n",
    "## Chapter 1. The Basics"
   ]
  },
  {
   "cell_type": "markdown",
   "metadata": {},
   "source": [
    "### Print details of the execution environment"
   ]
  },
  {
   "cell_type": "code",
   "execution_count": 1,
   "metadata": {
    "ExecuteTime": {
     "end_time": "2017-07-13T18:24:12.189297Z",
     "start_time": "2017-07-13T18:24:00.710Z"
    }
   },
   "outputs": [
    {
     "name": "stdout",
     "output_type": "stream",
     "text": [
      "Details of exec env ==>\n",
      "    Scala library version 2.11.8 -- Copyright 2002-2016, LAMP/EPFL\n",
      "    Java HotSpot(TM) 64-Bit Server VM 1.8.0_131 25.131-b11\n"
     ]
    }
   ],
   "source": [
    "println(s\"\"\"Details of exec env ==>\n",
    "    |    ${util.Properties.versionMsg}\n",
    "    |    ${util.Properties.javaVmName} ${util.Properties.javaVersion} ${util.Properties.javaVmVersion}\"\"\"\n",
    ".stripMargin)"
   ]
  },
  {
   "cell_type": "markdown",
   "metadata": {},
   "source": [
    "### Qn#2. In the Scala REPL, compute the square root of 3, and then square that value. By how much does the result differ from 3? (Hint: The res variables are your friend.)"
   ]
  },
  {
   "cell_type": "code",
   "execution_count": 2,
   "metadata": {
    "ExecuteTime": {
     "end_time": "2017-07-13T18:24:13.400345Z",
     "start_time": "2017-07-13T18:24:00.710Z"
    }
   },
   "outputs": [
    {
     "data": {
      "text/plain": [
       "4.440892098500626E-16"
      ]
     },
     "execution_count": 2,
     "metadata": {},
     "output_type": "execute_result"
    }
   ],
   "source": [
    "import math._\n",
    "\n",
    "3 - pow(sqrt(3), 2)"
   ]
  },
  {
   "cell_type": "markdown",
   "metadata": {},
   "source": [
    "### Qn#4. Scala lets you multiply a string with a number—try out `\"crazy\" * 3` in the REPL. What does this operation do? Where can you find it in Scaladoc?"
   ]
  },
  {
   "cell_type": "code",
   "execution_count": 3,
   "metadata": {
    "ExecuteTime": {
     "end_time": "2017-07-13T18:24:13.895491Z",
     "start_time": "2017-07-13T18:24:00.710Z"
    }
   },
   "outputs": [
    {
     "data": {
      "text/plain": [
       "crazycrazycrazy"
      ]
     },
     "execution_count": 3,
     "metadata": {},
     "output_type": "execute_result"
    }
   ],
   "source": [
    "\"crazy\" * 3"
   ]
  },
  {
   "cell_type": "markdown",
   "metadata": {},
   "source": [
    "### Qn#5. What does `10 max 2` mean? In which class is the max method defined?"
   ]
  },
  {
   "cell_type": "code",
   "execution_count": 4,
   "metadata": {
    "ExecuteTime": {
     "end_time": "2017-07-13T18:24:14.355690Z",
     "start_time": "2017-07-13T18:24:00.710Z"
    }
   },
   "outputs": [
    {
     "data": {
      "text/plain": [
       "10"
      ]
     },
     "execution_count": 4,
     "metadata": {},
     "output_type": "execute_result"
    }
   ],
   "source": [
    "10 max 2"
   ]
  },
  {
   "cell_type": "markdown",
   "metadata": {},
   "source": [
    "### Qn#6. Using `BigInt`, compute `2<sup>1024</sup>`."
   ]
  },
  {
   "cell_type": "code",
   "execution_count": 5,
   "metadata": {
    "ExecuteTime": {
     "end_time": "2017-07-13T18:24:14.785001Z",
     "start_time": "2017-07-13T18:24:00.725Z"
    }
   },
   "outputs": [
    {
     "data": {
      "text/plain": [
       "179769313486231590772930519078902473361797697894230657273430081157732675805500963132708477322407536021120113879871393357658789768814416622492847430639474124377767893424865485276302219601246094119453082952085005768838150682342462881473913110540827237163350510684586298239947245938479716304835356329624224137216"
      ]
     },
     "execution_count": 5,
     "metadata": {},
     "output_type": "execute_result"
    }
   ],
   "source": [
    "BigInt(2).pow(1024)"
   ]
  },
  {
   "cell_type": "markdown",
   "metadata": {},
   "source": [
    "### Qn#7. What do you need to import so that you can get a random prime as `probablePrime(100, Random)`, without any qualifiers before `probablePrime` and `Random`?"
   ]
  },
  {
   "cell_type": "code",
   "execution_count": 6,
   "metadata": {
    "ExecuteTime": {
     "end_time": "2017-07-13T18:24:16.524469Z",
     "start_time": "2017-07-13T18:24:00.728Z"
    }
   },
   "outputs": [
    {
     "data": {
      "text/plain": [
       "746399841880343649071464112899"
      ]
     },
     "execution_count": 6,
     "metadata": {},
     "output_type": "execute_result"
    }
   ],
   "source": [
    "import util._\n",
    "import BigInt._\n",
    "\n",
    "probablePrime(100, Random)"
   ]
  },
  {
   "cell_type": "markdown",
   "metadata": {},
   "source": [
    "### Qn#9. How do you get the first character of a string in Scala? The last character?"
   ]
  },
  {
   "cell_type": "code",
   "execution_count": 7,
   "metadata": {
    "ExecuteTime": {
     "end_time": "2017-07-13T18:24:20.169307Z",
     "start_time": "2017-07-13T18:24:00.730Z"
    }
   },
   "outputs": [
    {
     "name": "stdout",
     "output_type": "stream",
     "text": [
      "Java-style:-\n",
      "\tFirst character: S\n",
      "\tLast character: t\n",
      "\n",
      "Scala-style:-\n",
      "\tFirst character with head method: S\n",
      "\tFirst character with take method: S\n",
      "\tFirst character with dropRight method: S\n",
      "\n",
      "\tLast character with tail method: t\n",
      "\tLast character with drop method: t\n",
      "\tLast character with takeRight method: t\n"
     ]
    }
   ],
   "source": [
    "val title = \"Scala for the Impatient\"\n",
    "\n",
    "// Java-style\n",
    "println(\"Java-style:-\")\n",
    "println(s\"\\tFirst character: ${title(0)}\")\n",
    "println(s\"\\tLast character: ${title(title.length - 1)}\")\n",
    "\n",
    "// Scala-style\n",
    "println(\"\\nScala-style:-\")\n",
    "println(s\"\\tFirst character with head method: ${title.head}\")\n",
    "println(s\"\\tFirst character with take method: ${title.take(1)}\")\n",
    "println(s\"\\tFirst character with dropRight method: ${title.dropRight(title.length - 1)}\\n\")\n",
    "\n",
    "println(s\"\\tLast character with tail method: ${title.tail(title.length-2)}\")\n",
    "println(s\"\\tLast character with drop method: ${title.drop(title.length - 1)}\")\n",
    "println(s\"\\tLast character with takeRight method: ${title.takeRight(1)}\")"
   ]
  }
 ],
 "metadata": {
  "kernelspec": {
   "display_name": "Apache Toree - Scala",
   "language": "scala",
   "name": "apache_toree_scala"
  },
  "language_info": {
   "file_extension": ".scala",
   "name": "scala",
   "version": "2.11.8"
  },
  "toc": {
   "colors": {
    "hover_highlight": "#DAA520",
    "navigate_num": "#000000",
    "navigate_text": "#333333",
    "running_highlight": "#FF0000",
    "selected_highlight": "#FFD700",
    "sidebar_border": "#EEEEEE",
    "wrapper_background": "#FFFFFF"
   },
   "moveMenuLeft": true,
   "nav_menu": {
    "height": "380px",
    "width": "252px"
   },
   "navigate_menu": true,
   "number_sections": true,
   "sideBar": true,
   "threshold": 4,
   "toc_cell": false,
   "toc_section_display": "block",
   "toc_window_display": false,
   "widenNotebook": false
  }
 },
 "nbformat": 4,
 "nbformat_minor": 1
}
