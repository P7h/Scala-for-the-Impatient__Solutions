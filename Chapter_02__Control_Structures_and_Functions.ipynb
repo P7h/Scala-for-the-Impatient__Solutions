{
 "cells": [
  {
   "cell_type": "markdown",
   "metadata": {},
   "source": [
    "# Scala for the Impatient -- 2nd Edition\n",
    "----\n",
    "\n",
    "## Chapter 2. Control Structures and Functions"
   ]
  },
  {
   "cell_type": "markdown",
   "metadata": {},
   "source": [
    "### Print details of the execution environment"
   ]
  },
  {
   "cell_type": "code",
   "execution_count": 1,
   "metadata": {
    "ExecuteTime": {
     "end_time": "2017-07-13T20:41:25.424330Z",
     "start_time": "2017-07-13T20:41:13.652Z"
    }
   },
   "outputs": [
    {
     "name": "stdout",
     "output_type": "stream",
     "text": [
      "Details of exec env ==>\n",
      "    Scala library version 2.11.8 -- Copyright 2002-2016, LAMP/EPFL\n",
      "    Java HotSpot(TM) 64-Bit Server VM 1.8.0_131 25.131-b11\n"
     ]
    }
   ],
   "source": [
    "println(s\"\"\"Details of exec env ==>\n",
    "    |    ${util.Properties.versionMsg}\n",
    "    |    ${util.Properties.javaVmName} ${util.Properties.javaVersion} ${util.Properties.javaVmVersion}\"\"\"\n",
    ".stripMargin)"
   ]
  },
  {
   "cell_type": "markdown",
   "metadata": {},
   "source": [
    "### Qn#1. The signum of a number is 1 if the number is positive, –1 if it is negative, and 0 if it is zero. Write a function that computes this value."
   ]
  },
  {
   "cell_type": "code",
   "execution_count": 2,
   "metadata": {
    "ExecuteTime": {
     "end_time": "2017-07-13T20:41:26.316477Z",
     "start_time": "2017-07-13T20:41:13.652Z"
    }
   },
   "outputs": [
    {
     "name": "stdout",
     "output_type": "stream",
     "text": [
      "(-1,0,1)\n"
     ]
    }
   ],
   "source": [
    "def signum(number: Int) = {\n",
    "    if (number > 0) 1\n",
    "    else if (number < 0) -1\n",
    "    else 0;\n",
    "}\n",
    "\n",
    "println(signum(-50), signum(0), signum(50))"
   ]
  },
  {
   "cell_type": "markdown",
   "metadata": {},
   "source": [
    "### Qn#4. Write a Scala equivalent for the Java loop `for (int i = 10; i >= 0; i--) System.out.println(i);`"
   ]
  },
  {
   "cell_type": "code",
   "execution_count": 3,
   "metadata": {
    "ExecuteTime": {
     "end_time": "2017-07-13T20:41:27.357760Z",
     "start_time": "2017-07-13T20:41:13.668Z"
    }
   },
   "outputs": [
    {
     "name": "stdout",
     "output_type": "stream",
     "text": [
      "10\n",
      "9\n",
      "8\n",
      "7\n",
      "6\n",
      "5\n",
      "4\n",
      "3\n",
      "2\n",
      "1\n",
      "0\n"
     ]
    }
   ],
   "source": [
    "for (n <- Range(10, -1, -1)) println(n)"
   ]
  },
  {
   "cell_type": "markdown",
   "metadata": {},
   "source": [
    "### Qn#5. Write a procedure `countdown(n: Int)` that prints the numbers from `n` to `0`."
   ]
  },
  {
   "cell_type": "code",
   "execution_count": 4,
   "metadata": {
    "ExecuteTime": {
     "end_time": "2017-07-13T20:41:28.429591Z",
     "start_time": "2017-07-13T20:41:13.668Z"
    }
   },
   "outputs": [
    {
     "name": "stdout",
     "output_type": "stream",
     "text": [
      "5\n",
      "4\n",
      "3\n",
      "2\n",
      "1\n",
      "0\n"
     ]
    }
   ],
   "source": [
    "def countdown(n: Int) {\n",
    "    for( i <- Range(n, -1, -1) )\n",
    "        println(i)\n",
    "}\n",
    "\n",
    "countdown(5);"
   ]
  },
  {
   "cell_type": "markdown",
   "metadata": {},
   "source": [
    "### Qn#6. Write a for loop for computing the product of the Unicode codes of all letters in a string. For example, the product of the characters in \"Hello\" is 9415087488L."
   ]
  },
  {
   "cell_type": "code",
   "execution_count": 5,
   "metadata": {
    "ExecuteTime": {
     "end_time": "2017-07-13T20:41:29.429474Z",
     "start_time": "2017-07-13T20:41:13.668Z"
    }
   },
   "outputs": [
    {
     "name": "stdout",
     "output_type": "stream",
     "text": [
      "(H,72)\n",
      "(e,7272)\n",
      "(l,785376)\n",
      "(l,84820608)\n",
      "(o,9415087488)\n"
     ]
    }
   ],
   "source": [
    "var prod = 1l\n",
    "\n",
    "for (c <- \"Hello\") {\n",
    "    prod *= c\n",
    "    println(c, prod)\n",
    "}"
   ]
  },
  {
   "cell_type": "markdown",
   "metadata": {},
   "source": [
    "### Qn#7. Solve the preceding exercise without writing a loop. (Hint: Look at the `StringOps` Scaladoc.)"
   ]
  },
  {
   "cell_type": "code",
   "execution_count": 6,
   "metadata": {
    "ExecuteTime": {
     "end_time": "2017-07-13T20:41:29.980668Z",
     "start_time": "2017-07-13T20:41:13.668Z"
    }
   },
   "outputs": [
    {
     "data": {
      "text/plain": [
       "9415087488"
      ]
     },
     "execution_count": 6,
     "metadata": {},
     "output_type": "execute_result"
    }
   ],
   "source": [
    "\"Hello\".foldLeft(1L)((a, b) => a * b)"
   ]
  },
  {
   "cell_type": "markdown",
   "metadata": {},
   "source": [
    "### Qn#8. Write a function `product(s : String)` that computes the product, as described in the preceding exercises."
   ]
  },
  {
   "cell_type": "code",
   "execution_count": 7,
   "metadata": {
    "ExecuteTime": {
     "end_time": "2017-07-13T20:41:30.715653Z",
     "start_time": "2017-07-13T20:41:13.668Z"
    }
   },
   "outputs": [
    {
     "name": "stdout",
     "output_type": "stream",
     "text": [
      "9415087488\n"
     ]
    }
   ],
   "source": [
    "def product(s: String) = {\n",
    "    s.foldLeft(1L)((a, b) => a * b)\n",
    "}\n",
    "\n",
    "println(product(\"Hello\"))"
   ]
  },
  {
   "cell_type": "markdown",
   "metadata": {},
   "source": [
    "### Qn#9. Make the function of the preceding exercise a recursive function."
   ]
  },
  {
   "cell_type": "code",
   "execution_count": 8,
   "metadata": {
    "ExecuteTime": {
     "end_time": "2017-07-13T20:41:31.369782Z",
     "start_time": "2017-07-13T20:41:13.683Z"
    }
   },
   "outputs": [
    {
     "data": {
      "text/plain": [
       "9415087488"
      ]
     },
     "execution_count": 8,
     "metadata": {},
     "output_type": "execute_result"
    }
   ],
   "source": [
    "def productRecursive(s: String):Long = {\n",
    "    if(s.length == 0) 1\n",
    "    else s(0) * productRecursive(s drop 1)\n",
    "}\n",
    "\n",
    "productRecursive(\"Hello\")"
   ]
  },
  {
   "cell_type": "markdown",
   "metadata": {},
   "source": [
    "### Qn#10. Write a function that computes x<sup>n</sup>, where n is an integer. Use the following recursive definition:\n",
    "- x<sup>n</sup> = y<sup>2</sup> if n is even and positive, where y = x <sup>n / 2</sup>.\n",
    "- x<sup>n</sup> = x * x<sup>n – 1</sup> if n is odd and positive.\n",
    "- x<sup>0</sup> = 1.\n",
    "- x<sup>n</sup> = 1 / x<sup>–n</sup> if n is negative.\n",
    "\n",
    "Don’t use a  return statement."
   ]
  },
  {
   "cell_type": "code",
   "execution_count": 9,
   "metadata": {
    "ExecuteTime": {
     "end_time": "2017-07-13T20:41:32.044945Z",
     "start_time": "2017-07-13T20:41:13.686Z"
    }
   },
   "outputs": [
    {
     "data": {
      "text/plain": [
       "1267650600228229401496703205376"
      ]
     },
     "execution_count": 9,
     "metadata": {},
     "output_type": "execute_result"
    }
   ],
   "source": [
    "def powerOfXToN(x: BigInt, n: Int) : BigInt = {\n",
    "    if(n > 0 && n % 2 == 0) powerOfXToN(x, n / 2) * powerOfXToN(x, n / 2)\n",
    "    else if(n > 0) x * powerOfXToN(x, n - 1)\n",
    "    else if(n == 0) 1\n",
    "    else 1 / powerOfXToN(x, -n)\n",
    "}\n",
    "\n",
    "powerOfXToN(2, 100)"
   ]
  },
  {
   "cell_type": "markdown",
   "metadata": {},
   "source": [
    "### Qn#11. Define a string interpolator date so that you can define a `java.time.LocalDate` as `date\"$year-$month-$day\"`. You need to define an `implicit` class with a `date` method, like this:\n",
    "\n",
    "`implicit class DateInterpolator(val sc: StringContext) extends AnyVal {\n",
    "  def date(args: Any*): LocalDate = . . .\n",
    "}`\n",
    "\n",
    "`args(i)` is the value of the `i`th expression. Convert each to a string and then to an integer, and pass them to the `LocalDate.of` method. If you already know some Scala, add error handling. Throw an exception if there aren’t three arguments, or if they aren’t integers, or if they aren’t separated by dashes. (You get the strings in between the expressions as sc.parts.)"
   ]
  },
  {
   "cell_type": "code",
   "execution_count": 10,
   "metadata": {
    "ExecuteTime": {
     "end_time": "2017-07-13T20:41:32.363069Z",
     "start_time": "2017-07-13T20:41:13.691Z"
    }
   },
   "outputs": [
    {
     "name": "stdout",
     "output_type": "stream",
     "text": [
      "TBC\n"
     ]
    }
   ],
   "source": [
    "println(\"TBC\")"
   ]
  }
 ],
 "metadata": {
  "kernelspec": {
   "display_name": "Apache Toree - Scala",
   "language": "scala",
   "name": "apache_toree_scala"
  },
  "language_info": {
   "file_extension": ".scala",
   "name": "scala",
   "version": "2.11.8"
  },
  "toc": {
   "colors": {
    "hover_highlight": "#DAA520",
    "navigate_num": "#000000",
    "navigate_text": "#333333",
    "running_highlight": "#FF0000",
    "selected_highlight": "#FFD700",
    "sidebar_border": "#EEEEEE",
    "wrapper_background": "#FFFFFF"
   },
   "moveMenuLeft": true,
   "nav_menu": {
    "height": "511px",
    "width": "252px"
   },
   "navigate_menu": true,
   "number_sections": true,
   "sideBar": true,
   "threshold": 4,
   "toc_cell": false,
   "toc_section_display": "block",
   "toc_window_display": false,
   "widenNotebook": false
  }
 },
 "nbformat": 4,
 "nbformat_minor": 1
}
