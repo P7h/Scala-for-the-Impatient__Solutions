{
 "cells": [
  {
   "cell_type": "markdown",
   "metadata": {},
   "source": [
    "# Scala for the Impatient -- 2nd Edition\n",
    "----\n",
    "\n",
    "## Chapter 3. Working with Arrays"
   ]
  },
  {
   "cell_type": "markdown",
   "metadata": {},
   "source": [
    "### Print details of the execution environment"
   ]
  },
  {
   "cell_type": "code",
   "execution_count": 1,
   "metadata": {
    "ExecuteTime": {
     "end_time": "2017-07-13T20:40:05.392943Z",
     "start_time": "2017-07-13T20:40:02.952Z"
    }
   },
   "outputs": [
    {
     "name": "stdout",
     "output_type": "stream",
     "text": [
      "Details of exec env ==>\n",
      "    Scala library version 2.11.8 -- Copyright 2002-2016, LAMP/EPFL\n",
      "    Java HotSpot(TM) 64-Bit Server VM 1.8.0_131 25.131-b11\n"
     ]
    }
   ],
   "source": [
    "println(s\"\"\"Details of exec env ==>\n",
    "    |    ${util.Properties.versionMsg}\n",
    "    |    ${util.Properties.javaVmName} ${util.Properties.javaVersion} ${util.Properties.javaVmVersion}\"\"\"\n",
    ".stripMargin)"
   ]
  },
  {
   "cell_type": "markdown",
   "metadata": {},
   "source": [
    "### Qn#1. Write a code snippet that sets `a` to an array of `n` random integers between `0` (inclusive) and `n` (exclusive)."
   ]
  },
  {
   "cell_type": "code",
   "execution_count": 2,
   "metadata": {
    "ExecuteTime": {
     "end_time": "2017-07-13T20:40:08.576296Z",
     "start_time": "2017-07-13T20:40:02.952Z"
    }
   },
   "outputs": [
    {
     "data": {
      "text/plain": [
       "Vector(5, 2, 2, 6, 6, 5, 3, 4, 3, 2)"
      ]
     },
     "execution_count": 2,
     "metadata": {},
     "output_type": "execute_result"
    }
   ],
   "source": [
    "import math._\n",
    "\n",
    "val n = 10\n",
    "val random = scala.util.Random\n",
    "val a  = for (i <- 0 until n) yield random.nextInt(n)\n",
    "a"
   ]
  },
  {
   "cell_type": "markdown",
   "metadata": {},
   "source": [
    "### Qn#2. Write a loop that swaps adjacent elements of an array of integers. For example, `Array(1, 2, 3, 4, 5)` becomes `Array(2, 1, 4, 3, 5)`"
   ]
  },
  {
   "cell_type": "code",
   "execution_count": 3,
   "metadata": {
    "ExecuteTime": {
     "end_time": "2017-07-13T20:40:09.751151Z",
     "start_time": "2017-07-13T20:40:02.952Z"
    }
   },
   "outputs": [
    {
     "data": {
      "text/plain": [
       "Name: Syntax Error.\n",
       "Message: \n",
       "StackTrace: "
      ]
     },
     "execution_count": 3,
     "metadata": {},
     "output_type": "execute_result"
    }
   ],
   "source": [
    "val array = Array(1, 2, 3, 4, 5)\n",
    "\n",
    "array.grouped(2).flatMap(_.reverse).toArray\n",
    "\n",
    "//array.grouped(2).map(_.reverse).flatMap(n => n).toArray"
   ]
  },
  {
   "cell_type": "markdown",
   "metadata": {},
   "source": [
    "### Qn#3. Repeat the preceding assignment, but produce a new array with the swapped values. Use `for / yield`."
   ]
  },
  {
   "cell_type": "code",
   "execution_count": 4,
   "metadata": {
    "ExecuteTime": {
     "end_time": "2017-07-13T20:40:10.586959Z",
     "start_time": "2017-07-13T20:40:02.968Z"
    }
   },
   "outputs": [
    {
     "data": {
      "text/plain": [
       "Array(2, 1, 4, 3, 5)"
      ]
     },
     "execution_count": 4,
     "metadata": {},
     "output_type": "execute_result"
    }
   ],
   "source": [
    "(for {x <- array.grouped(2); y <- x.reverse} yield y).toArray"
   ]
  },
  {
   "cell_type": "markdown",
   "metadata": {},
   "source": [
    "### Qn#4. Given an array of integers, produce a new array that contains all positive values of the original array, in their original order, followed by all values that are zero or negative, in their original order."
   ]
  },
  {
   "cell_type": "code",
   "execution_count": 5,
   "metadata": {
    "ExecuteTime": {
     "end_time": "2017-07-13T20:40:12.379309Z",
     "start_time": "2017-07-13T20:40:02.968Z"
    }
   },
   "outputs": [
    {
     "data": {
      "text/plain": [
       "Array(2, 5, -9, 0, -22)"
      ]
     },
     "execution_count": 5,
     "metadata": {},
     "output_type": "execute_result"
    }
   ],
   "source": [
    "val array = Array(-9, 0, 2, -22, 5)\n",
    "\n",
    "val (a,b) = array.partition( _ > 0)\n",
    "a ++ b"
   ]
  },
  {
   "cell_type": "markdown",
   "metadata": {},
   "source": [
    "### Qn#5. How do you compute the average of an `Array[Double]`?"
   ]
  },
  {
   "cell_type": "code",
   "execution_count": 6,
   "metadata": {
    "ExecuteTime": {
     "end_time": "2017-07-13T20:40:13.257861Z",
     "start_time": "2017-07-13T20:40:02.968Z"
    }
   },
   "outputs": [
    {
     "data": {
      "text/plain": [
       "7.106650000000001"
      ]
     },
     "execution_count": 6,
     "metadata": {},
     "output_type": "execute_result"
    }
   ],
   "source": [
    "val array = Array(9.43, -10.26, -0.9921, 15.09, 27.812, 1.56)\n",
    "\n",
    "array.sum/array.length"
   ]
  },
  {
   "cell_type": "markdown",
   "metadata": {},
   "source": [
    "### Qn#6. How do you rearrange the elements of an `Array[Int]` so that they appear in reverse sorted order? How do you do the same with an `ArrayBuffer[Int]`?"
   ]
  },
  {
   "cell_type": "code",
   "execution_count": 7,
   "metadata": {
    "ExecuteTime": {
     "end_time": "2017-07-13T20:40:14.283483Z",
     "start_time": "2017-07-13T20:40:02.968Z"
    }
   },
   "outputs": [
    {
     "data": {
      "text/plain": [
       "Array(5, 2, 0, -9, -22)"
      ]
     },
     "execution_count": 7,
     "metadata": {},
     "output_type": "execute_result"
    }
   ],
   "source": [
    "val array = Array(-9, 0, 2, -22, 5)\n",
    "\n",
    "array.sortWith( _ > _)"
   ]
  },
  {
   "cell_type": "code",
   "execution_count": 8,
   "metadata": {
    "ExecuteTime": {
     "end_time": "2017-07-13T20:40:15.385019Z",
     "start_time": "2017-07-13T20:40:02.968Z"
    }
   },
   "outputs": [
    {
     "data": {
      "text/plain": [
       "ArrayBuffer(5, 2, 0, -9, -22)"
      ]
     },
     "execution_count": 8,
     "metadata": {},
     "output_type": "execute_result"
    }
   ],
   "source": [
    "// For ArrayBuffer\n",
    "val arrayBuffer = array.toBuffer\n",
    "\n",
    "arrayBuffer.sortWith( _ > _)"
   ]
  },
  {
   "cell_type": "markdown",
   "metadata": {},
   "source": [
    "### Qn#7. Write a code snippet that produces all values from an array with duplicates removed. (Hint: Look at Scaladoc.)"
   ]
  },
  {
   "cell_type": "markdown",
   "metadata": {},
   "source": [
    "#### Solution#1"
   ]
  },
  {
   "cell_type": "code",
   "execution_count": 9,
   "metadata": {
    "ExecuteTime": {
     "end_time": "2017-07-13T20:40:16.191196Z",
     "start_time": "2017-07-13T20:40:02.984Z"
    }
   },
   "outputs": [
    {
     "data": {
      "text/plain": [
       "Array(7, 1, 12, 0, 20, 8, 2, 9)"
      ]
     },
     "execution_count": 9,
     "metadata": {},
     "output_type": "execute_result"
    }
   ],
   "source": [
    "val array = Array(7, 1, 12, 0, 1, 20, 1, 12, 8, 1, 2, 9, 0)\n",
    "\n",
    "array.distinct"
   ]
  },
  {
   "cell_type": "markdown",
   "metadata": {},
   "source": [
    "#### Solution#2"
   ]
  },
  {
   "cell_type": "code",
   "execution_count": 10,
   "metadata": {
    "ExecuteTime": {
     "end_time": "2017-07-13T20:40:17.161615Z",
     "start_time": "2017-07-13T20:40:02.986Z"
    }
   },
   "outputs": [
    {
     "data": {
      "text/plain": [
       "Set(0, 20, 1, 9, 2, 12, 7, 8)"
      ]
     },
     "execution_count": 10,
     "metadata": {},
     "output_type": "execute_result"
    }
   ],
   "source": [
    "val array = Array(7, 1, 12, 0, 1, 20, 1, 12, 8, 1, 2, 9, 0)\n",
    "\n",
    "array.toSet"
   ]
  },
  {
   "cell_type": "markdown",
   "metadata": {},
   "source": [
    "#### Solution#3"
   ]
  },
  {
   "cell_type": "code",
   "execution_count": 11,
   "metadata": {
    "ExecuteTime": {
     "end_time": "2017-07-13T20:40:18.651306Z",
     "start_time": "2017-07-13T20:40:02.991Z"
    }
   },
   "outputs": [
    {
     "data": {
      "text/plain": [
       "ArrayBuffer(7, 1, 12, 0, 20, 8, 2, 9)"
      ]
     },
     "execution_count": 11,
     "metadata": {},
     "output_type": "execute_result"
    }
   ],
   "source": [
    "val array = Array(7, 1, 12, 0, 1, 20, 1, 12, 8, 1, 2, 9, 0)\n",
    "\n",
    "val b = Array[Int]().toBuffer\n",
    "\n",
    "for(i <- array; if !(b contains i)) b += i\n",
    "\n",
    "b"
   ]
  },
  {
   "cell_type": "markdown",
   "metadata": {},
   "source": [
    "### Qn#8. Suppose you are given an array buffer of integers and want to remove all but the first negative number. Here is a sequential solution that sets a flag when the first negative number is called, then removes all elements beyond.\n",
    "\n",
    "```\n",
    "var first = true\n",
    "var n = a.length\n",
    "var i = 0\n",
    "while (i < n) {\n",
    "  if (a(i) >= 0) i += 1\n",
    "  else {\n",
    "    if (first) { \n",
    "        first = false; \n",
    "        i += 1\n",
    "    }\n",
    "    else { \n",
    "        a.remove(i); \n",
    "        n -= 1\n",
    "    }\n",
    "  }\n",
    "}\n",
    "```\n",
    "\n",
    "#### This is a complex and inefficient solution. Rewrite it in Scala by collecting positions of the negative elements, dropping the first element, reversing the sequence, and calling `a.remove(i)` for each index."
   ]
  },
  {
   "cell_type": "markdown",
   "metadata": {},
   "source": [
    "#### Actually this solution performs better than the other solutions here."
   ]
  },
  {
   "cell_type": "code",
   "execution_count": 12,
   "metadata": {
    "ExecuteTime": {
     "end_time": "2017-07-13T20:40:20.345697Z",
     "start_time": "2017-07-13T20:40:03.059Z"
    }
   },
   "outputs": [
    {
     "data": {
      "text/plain": [
       "ArrayBuffer(1, 9, 121, 71, 21, -5, 15, 0, 10, 9, 20)"
      ]
     },
     "execution_count": 12,
     "metadata": {},
     "output_type": "execute_result"
    }
   ],
   "source": [
    "// Original: \"complex and inefficient solution\", but this performs better compared to the solutions below.\n",
    "val a = Array(1, 9, 121, 71, 21, -5, 15, 0, -20, 10, -6, 9, 20, -2).toBuffer\n",
    "\n",
    "var first = true\n",
    "var n = a.length\n",
    "var i = 0\n",
    "while (i < n) {\n",
    "  if (a(i) >= 0) i += 1\n",
    "  else {\n",
    "    if (first) { \n",
    "        first = false; \n",
    "        i += 1\n",
    "    }\n",
    "    else { \n",
    "        a.remove(i); \n",
    "        n -= 1\n",
    "    }\n",
    "  }\n",
    "}\n",
    "a"
   ]
  },
  {
   "cell_type": "markdown",
   "metadata": {},
   "source": [
    "#### Solution#1"
   ]
  },
  {
   "cell_type": "code",
   "execution_count": 13,
   "metadata": {
    "ExecuteTime": {
     "end_time": "2017-07-13T20:40:22.363771Z",
     "start_time": "2017-07-13T20:40:03.064Z"
    }
   },
   "outputs": [
    {
     "data": {
      "text/plain": [
       "ArrayBuffer(1, 9, 121, 71, 21, -5, 15, 0, 10, 9, 20)"
      ]
     },
     "execution_count": 13,
     "metadata": {},
     "output_type": "execute_result"
    }
   ],
   "source": [
    "val a = Array(1, 9, 121, 71, 21, -5, 15, 0, -20, 10, -6, 9, 20, -2).toBuffer\n",
    "\n",
    "val b = a.zipWithIndex.filter { case (elem, i) => \n",
    "    elem < 0\n",
    "}\n",
    "\n",
    "b.remove(0)\n",
    "\n",
    "val c = b.zipWithIndex.map { case (elem, i) => \n",
    "    a.remove(elem._2 - i) \n",
    "}\n",
    "\n",
    "a"
   ]
  },
  {
   "cell_type": "markdown",
   "metadata": {},
   "source": [
    "#### Solution#2"
   ]
  },
  {
   "cell_type": "code",
   "execution_count": 14,
   "metadata": {
    "ExecuteTime": {
     "end_time": "2017-07-13T20:40:24.489398Z",
     "start_time": "2017-07-13T20:40:03.066Z"
    }
   },
   "outputs": [
    {
     "data": {
      "text/plain": [
       "ArrayBuffer(1, 9, 121, 71, 21, -5, 15, 0, 10, 9, 20)"
      ]
     },
     "execution_count": 14,
     "metadata": {},
     "output_type": "execute_result"
    }
   ],
   "source": [
    "val a = Array(1, 9, 121, 71, 21, -5, 15, 0, -20, 10, -6, 9, 20, -2).toBuffer\n",
    "\n",
    "val b = a.zipWithIndex.filter(_._1 < 0)\n",
    "\n",
    "b.remove(0)\n",
    "val c = b.reverse\n",
    "\n",
    "val d = c.map { case(_, i) => \n",
    "    a.remove(i)\n",
    "}\n",
    "\n",
    "a"
   ]
  },
  {
   "cell_type": "markdown",
   "metadata": {},
   "source": [
    "### Qn#9. Improve the solution of the preceding exercise by collecting the positions that should be moved and their target positions. Make those moves and truncate the buffer. Don’t copy any elements before the first unwanted element."
   ]
  },
  {
   "cell_type": "code",
   "execution_count": 15,
   "metadata": {
    "ExecuteTime": {
     "end_time": "2017-07-13T20:40:24.781253Z",
     "start_time": "2017-07-13T20:40:03.071Z"
    }
   },
   "outputs": [
    {
     "name": "stdout",
     "output_type": "stream",
     "text": [
      "TBC\n"
     ]
    }
   ],
   "source": [
    "println(\"TBC\")"
   ]
  },
  {
   "cell_type": "markdown",
   "metadata": {},
   "source": [
    "### Qn#10. Make a collection of all time zones returned by `java.util.TimeZone.getAvailableIDs` that are in America. Strip off the `America/` prefix and sort the result."
   ]
  },
  {
   "cell_type": "code",
   "execution_count": 16,
   "metadata": {
    "ExecuteTime": {
     "end_time": "2017-07-13T20:40:25.442107Z",
     "start_time": "2017-07-13T20:40:03.079Z"
    }
   },
   "outputs": [
    {
     "name": "stdout",
     "output_type": "stream",
     "text": [
      "Adak\n",
      "Anchorage\n",
      "Anguilla\n",
      "Antigua\n",
      "Araguaina\n",
      "Argentina/Buenos_Aires\n",
      "Argentina/Catamarca\n",
      "Argentina/ComodRivadavia\n",
      "Argentina/Cordoba\n",
      "Argentina/Jujuy\n",
      "Argentina/La_Rioja\n",
      "Argentina/Mendoza\n",
      "Argentina/Rio_Gallegos\n",
      "Argentina/Salta\n",
      "Argentina/San_Juan\n",
      "Argentina/San_Luis\n",
      "Argentina/Tucuman\n",
      "Argentina/Ushuaia\n",
      "Aruba\n",
      "Asuncion\n",
      "Atikokan\n",
      "Atka\n",
      "Bahia\n",
      "Bahia_Banderas\n",
      "Barbados\n",
      "Belem\n",
      "Belize\n",
      "Blanc-Sablon\n",
      "Boa_Vista\n",
      "Bogota\n",
      "Boise\n",
      "Buenos_Aires\n",
      "Cambridge_Bay\n",
      "Campo_Grande\n",
      "Cancun\n",
      "Caracas\n",
      "Catamarca\n",
      "Cayenne\n",
      "Cayman\n",
      "Chicago\n",
      "Chihuahua\n",
      "Coral_Harbour\n",
      "Cordoba\n",
      "Costa_Rica\n",
      "Creston\n",
      "Cuiaba\n",
      "Curacao\n",
      "Danmarkshavn\n",
      "Dawson\n",
      "Dawson_Creek\n",
      "Denver\n",
      "Detroit\n",
      "Dominica\n",
      "Edmonton\n",
      "Eirunepe\n",
      "El_Salvador\n",
      "Ensenada\n",
      "Fort_Nelson\n",
      "Fort_Wayne\n",
      "Fortaleza\n",
      "Glace_Bay\n",
      "Godthab\n",
      "Goose_Bay\n",
      "Grand_Turk\n",
      "Grenada\n",
      "Guadeloupe\n",
      "Guatemala\n",
      "Guayaquil\n",
      "Guyana\n",
      "Halifax\n",
      "Havana\n",
      "Hermosillo\n",
      "Indiana/Indianapolis\n",
      "Indiana/Knox\n",
      "Indiana/Marengo\n",
      "Indiana/Petersburg\n",
      "Indiana/Tell_City\n",
      "Indiana/Vevay\n",
      "Indiana/Vincennes\n",
      "Indiana/Winamac\n",
      "Indianapolis\n",
      "Inuvik\n",
      "Iqaluit\n",
      "Jamaica\n",
      "Jujuy\n",
      "Juneau\n",
      "Kentucky/Louisville\n",
      "Kentucky/Monticello\n",
      "Knox_IN\n",
      "Kralendijk\n",
      "La_Paz\n",
      "Lima\n",
      "Los_Angeles\n",
      "Louisville\n",
      "Lower_Princes\n",
      "Maceio\n",
      "Managua\n",
      "Manaus\n",
      "Marigot\n",
      "Martinique\n",
      "Matamoros\n",
      "Mazatlan\n",
      "Mendoza\n",
      "Menominee\n",
      "Merida\n",
      "Metlakatla\n",
      "Mexico_City\n",
      "Miquelon\n",
      "Moncton\n",
      "Monterrey\n",
      "Montevideo\n",
      "Montreal\n",
      "Montserrat\n",
      "Nassau\n",
      "New_York\n",
      "Nipigon\n",
      "Nome\n",
      "Noronha\n",
      "North_Dakota/Beulah\n",
      "North_Dakota/Center\n",
      "North_Dakota/New_Salem\n",
      "Ojinaga\n",
      "Panama\n",
      "Pangnirtung\n",
      "Paramaribo\n",
      "Phoenix\n",
      "Port-au-Prince\n",
      "Port_of_Spain\n",
      "Porto_Acre\n",
      "Porto_Velho\n",
      "Puerto_Rico\n",
      "Punta_Arenas\n",
      "Rainy_River\n",
      "Rankin_Inlet\n",
      "Recife\n",
      "Regina\n",
      "Resolute\n",
      "Rio_Branco\n",
      "Rosario\n",
      "Santa_Isabel\n",
      "Santarem\n",
      "Santiago\n",
      "Santo_Domingo\n",
      "Sao_Paulo\n",
      "Scoresbysund\n",
      "Shiprock\n",
      "Sitka\n",
      "St_Barthelemy\n",
      "St_Johns\n",
      "St_Kitts\n",
      "St_Lucia\n",
      "St_Thomas\n",
      "St_Vincent\n",
      "Swift_Current\n",
      "Tegucigalpa\n",
      "Thule\n",
      "Thunder_Bay\n",
      "Tijuana\n",
      "Toronto\n",
      "Tortola\n",
      "Vancouver\n",
      "Virgin\n",
      "Whitehorse\n",
      "Winnipeg\n",
      "Yakutat\n",
      "Yellowknife\n"
     ]
    }
   ],
   "source": [
    "val lenToDrop = \"America/\".length\n",
    "java.util.TimeZone.getAvailableIDs.filter(_.startsWith(\"America/\")).map(_.drop(lenToDrop)).foreach(println) // No need to sort, it is already sorted."
   ]
  },
  {
   "cell_type": "markdown",
   "metadata": {},
   "source": [
    "### Qn#11. Import `java.awt.datatransfer._` and make an object of type `SystemFlavorMap` with the call.\n",
    "\n",
    "```\n",
    "val flavors = SystemFlavorMap.getDefaultFlavorMap().asInstanceOf[SystemFlavorMap]\n",
    "```\n",
    "\n",
    "#### Then call the `getNativesForFlavor` method with parameter `DataFlavor.imageFlavor` and get the return value as a Scala buffer. (Why this obscure class? It’s hard to find uses of `java.util.List` in the standard Java library.)"
   ]
  },
  {
   "cell_type": "code",
   "execution_count": 17,
   "metadata": {
    "ExecuteTime": {
     "end_time": "2017-07-13T20:40:26.104708Z",
     "start_time": "2017-07-13T20:40:03.084Z"
    }
   },
   "outputs": [
    {
     "data": {
      "text/plain": [
       "[PNG, JFIF]"
      ]
     },
     "execution_count": 17,
     "metadata": {},
     "output_type": "execute_result"
    }
   ],
   "source": [
    "import java.awt.datatransfer._\n",
    "\n",
    "val flavors = SystemFlavorMap.getDefaultFlavorMap().asInstanceOf[SystemFlavorMap]\n",
    "flavors.getNativesForFlavor(DataFlavor.imageFlavor)"
   ]
  }
 ],
 "metadata": {
  "kernelspec": {
   "display_name": "Apache Toree - Scala",
   "language": "scala",
   "name": "apache_toree_scala"
  },
  "language_info": {
   "file_extension": ".scala",
   "name": "scala",
   "version": "2.11.8"
  },
  "toc": {
   "colors": {
    "hover_highlight": "#DAA520",
    "navigate_num": "#000000",
    "navigate_text": "#333333",
    "running_highlight": "#FF0000",
    "selected_highlight": "#FFD700",
    "sidebar_border": "#EEEEEE",
    "wrapper_background": "#FFFFFF"
   },
   "moveMenuLeft": true,
   "nav_menu": {
    "height": "511px",
    "width": "252px"
   },
   "navigate_menu": true,
   "number_sections": true,
   "sideBar": true,
   "threshold": 4,
   "toc_cell": false,
   "toc_section_display": "block",
   "toc_window_display": false,
   "widenNotebook": false
  }
 },
 "nbformat": 4,
 "nbformat_minor": 1
}
