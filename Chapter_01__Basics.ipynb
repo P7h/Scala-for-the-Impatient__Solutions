{
 "cells": [
  {
   "cell_type": "markdown",
   "metadata": {},
   "source": [
    "# Scala for the Impatient -- 2nd Edition\n",
    "----"
   ]
  },
  {
   "cell_type": "markdown",
   "metadata": {},
   "source": [
    "## Chapter 1. The Basics"
   ]
  },
  {
   "cell_type": "code",
   "execution_count": 1,
   "metadata": {
    "collapsed": false
   },
   "outputs": [
    {
     "name": "stdout",
     "output_type": "stream",
     "text": [
      "Scala ==> Scala library version 2.10.5 -- Copyright 2002-2013, LAMP/EPFL"
     ]
    }
   ],
   "source": [
    "println(s\"Scala ==> ${util.Properties.versionMsg}\")"
   ]
  },
  {
   "cell_type": "markdown",
   "metadata": {},
   "source": [
    "### Qn#2. In the Scala REPL, compute the square root of 3, and then square that value. By how much does the result differ from 3? (Hint: The res variables are your friend.)"
   ]
  },
  {
   "cell_type": "code",
   "execution_count": 2,
   "metadata": {
    "collapsed": false
   },
   "outputs": [
    {
     "data": {
      "text/plain": [
       "4.440892098500626E-16"
      ]
     },
     "execution_count": 2,
     "metadata": {},
     "output_type": "execute_result"
    }
   ],
   "source": [
    "import math._\n",
    "\n",
    "3 - pow(sqrt(3), 2)"
   ]
  },
  {
   "cell_type": "markdown",
   "metadata": {},
   "source": [
    "### Qn#4. Scala lets you multiply a string with a number—try out `\"crazy\" * 3` in the REPL. What does this operation do? Where can you find it in Scaladoc?"
   ]
  },
  {
   "cell_type": "code",
   "execution_count": 3,
   "metadata": {
    "collapsed": false
   },
   "outputs": [
    {
     "data": {
      "text/plain": [
       "crazycrazycrazy"
      ]
     },
     "execution_count": 3,
     "metadata": {},
     "output_type": "execute_result"
    }
   ],
   "source": [
    "\"crazy\" * 3"
   ]
  },
  {
   "cell_type": "markdown",
   "metadata": {},
   "source": [
    "### Qn#5. What does `10 max 2` mean? In which class is the max method defined?"
   ]
  },
  {
   "cell_type": "code",
   "execution_count": 4,
   "metadata": {
    "collapsed": false
   },
   "outputs": [
    {
     "data": {
      "text/plain": [
       "10"
      ]
     },
     "execution_count": 4,
     "metadata": {},
     "output_type": "execute_result"
    }
   ],
   "source": [
    "10 max 2"
   ]
  },
  {
   "cell_type": "markdown",
   "metadata": {},
   "source": [
    "### Qn#6. Using `BigInt`, compute `2<sup>1024</sup>`."
   ]
  },
  {
   "cell_type": "code",
   "execution_count": 5,
   "metadata": {
    "collapsed": false
   },
   "outputs": [
    {
     "data": {
      "text/plain": [
       "179769313486231590772930519078902473361797697894230657273430081157732675805500963132708477322407536021120113879871393357658789768814416622492847430639474124377767893424865485276302219601246094119453082952085005768838150682342462881473913110540827237163350510684586298239947245938479716304835356329624224137216"
      ]
     },
     "execution_count": 5,
     "metadata": {},
     "output_type": "execute_result"
    }
   ],
   "source": [
    "BigInt(2).pow(1024)"
   ]
  },
  {
   "cell_type": "markdown",
   "metadata": {},
   "source": [
    "### Qn#7. What do you need to import so that you can get a random prime as `probablePrime(100, Random)`, without any qualifiers before `probablePrime` and `Random`?"
   ]
  },
  {
   "cell_type": "code",
   "execution_count": 6,
   "metadata": {
    "collapsed": false
   },
   "outputs": [
    {
     "data": {
      "text/plain": [
       "1264757433987908767086444816239"
      ]
     },
     "execution_count": 6,
     "metadata": {},
     "output_type": "execute_result"
    }
   ],
   "source": [
    "import util._\n",
    "import BigInt._\n",
    "\n",
    "probablePrime(100, Random)"
   ]
  },
  {
   "cell_type": "markdown",
   "metadata": {},
   "source": [
    "### Qn#9. How do you get the first character of a string in Scala? The last character?"
   ]
  },
  {
   "cell_type": "code",
   "execution_count": 7,
   "metadata": {
    "collapsed": false
   },
   "outputs": [
    {
     "name": "stdout",
     "output_type": "stream",
     "text": [
      "Java-style\n",
      "First character: S\n",
      "Last character: t\n",
      "\n",
      "Scala-style\n",
      "First character: S\n",
      "First character: S\n",
      "First character: S\n",
      "\n",
      "Last character: t\n",
      "Last character: t\n",
      "Last character: t\n"
     ]
    }
   ],
   "source": [
    "val title = \"Scala for the Impatient\"\n",
    "\n",
    "// Java-style\n",
    "println(\"Java-style\")\n",
    "println(s\"First character: ${title(0)}\")\n",
    "println(s\"Last character: ${title(title.length - 1)}\\n\")\n",
    "\n",
    "// Scala-style\n",
    "println(\"Scala-style\")\n",
    "println(s\"First character: ${title.head}\")\n",
    "println(s\"First character: ${title.take(1)}\")\n",
    "println(s\"First character: ${title.dropRight(title.length - 1)}\\n\")\n",
    "\n",
    "println(s\"Last character: ${title.tail(title.length-2)}\")\n",
    "println(s\"Last character: ${title.drop(title.length - 1)}\")\n",
    "println(s\"Last character: ${title.takeRight(1)}\")"
   ]
  }
 ],
 "metadata": {
  "kernelspec": {
   "display_name": "Apache Toree - Scala",
   "language": "scala",
   "name": "apache_toree_scala"
  },
  "language_info": {
   "name": "scala"
  }
 },
 "nbformat": 4,
 "nbformat_minor": 1
}
